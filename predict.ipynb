{
 "cells": [
  {
   "cell_type": "markdown",
   "id": "33422d2a-a80a-4b5f-868a-f6dfb6d816a9",
   "metadata": {},
   "source": [
    "# CCS prediction"
   ]
  },
  {
   "cell_type": "code",
   "execution_count": 1,
   "id": "3c201dd8-a57b-44f8-bf72-2e9d8db93832",
   "metadata": {},
   "outputs": [],
   "source": [
    "from SigmaCCS2.ModelPrediction import *"
   ]
  },
  {
   "cell_type": "markdown",
   "id": "6a7c1370-43de-4ff3-b693-a64777f6805f",
   "metadata": {},
   "source": [
    "## Load the file that needs to predict CCS values"
   ]
  },
  {
   "cell_type": "code",
   "execution_count": 2,
   "id": "d0803d7f-6a6e-4984-a2ee-42864fd16065",
   "metadata": {},
   "outputs": [],
   "source": [
    "ifilepath = './data/ExternalTestSet.csv'"
   ]
  },
  {
   "cell_type": "markdown",
   "id": "6995661b-ba74-4e30-b738-c91754421f09",
   "metadata": {},
   "source": [
    "## Load the SigmaCCS2 model"
   ]
  },
  {
   "cell_type": "code",
   "execution_count": 3,
   "id": "46e73b72-b117-4d2a-8c5c-13a2bdb7d58e",
   "metadata": {},
   "outputs": [],
   "source": [
    "mfilepath = './model/model.pt'"
   ]
  },
  {
   "cell_type": "markdown",
   "id": "4162b453-73e0-43f1-a7ce-8a6fb2d003e9",
   "metadata": {},
   "source": [
    "## Path to save the predicted CCS values"
   ]
  },
  {
   "cell_type": "code",
   "execution_count": 4,
   "id": "f27260ee-8c0d-4933-984c-06e2364a38d2",
   "metadata": {},
   "outputs": [],
   "source": [
    "ofilepath = './data/ExternalTestSet-Prediction.csv'"
   ]
  },
  {
   "cell_type": "markdown",
   "id": "13d485ea-6b50-4ede-914e-d788e8a62d5f",
   "metadata": {},
   "source": [
    "## Use SigmaCCS2 to predict CCS values"
   ]
  },
  {
   "cell_type": "code",
   "execution_count": 5,
   "id": "c2ce5566-a3d7-4a48-a122-7972ddfa5a0b",
   "metadata": {},
   "outputs": [
    {
     "name": "stdout",
     "output_type": "stream",
     "text": [
      "## Read data :  1172\n",
      "## All Atoms :  ['As', 'Br', 'C', 'Cl', 'F', 'I', 'N', 'O', 'P', 'S', 'Se']\n",
      "## All Adduct :  ['[M+H]+', '[M+Na]+', '[M-H]-']\n"
     ]
    },
    {
     "name": "stderr",
     "output_type": "stream",
     "text": [
      "  0%|                                                                                         | 0/1172 [00:00<?, ?it/s]C:\\Users\\yxliao\\Desktop\\SigmaCCS2\\SigmaCCS2\\DataConstruction.py:174: UserWarning: Creating a tensor from a list of numpy.ndarrays is extremely slow. Please consider converting the list to a single numpy.ndarray with numpy.array() before converting to a tensor. (Triggered internally at C:\\actions-runner\\_work\\pytorch\\pytorch\\builder\\windows\\pytorch\\torch\\csrc\\utils\\tensor_new.cpp:233.)\n",
      "  x = torch.tensor(x, dtype=torch.float32)\n",
      "100%|██████████████████████████████████████████████████████████████████████████████| 1172/1172 [02:52<00:00,  6.79it/s]\n"
     ]
    },
    {
     "name": "stdout",
     "output_type": "stream",
     "text": [
      "## Molecular graph & Line graph & Adduct dataset completed\n"
     ]
    },
    {
     "name": "stderr",
     "output_type": "stream",
     "text": [
      "100%|██████████████████████████████████████████████████████████████████████████████| 1172/1172 [00:30<00:00, 38.31it/s]"
     ]
    },
    {
     "name": "stdout",
     "output_type": "stream",
     "text": [
      "## CCS predicted completed\n",
      "R2 Score : 0.9762617343408069\n",
      "Mean Absolute Error : 3.403338591800208\n",
      "Median Absolute Error : 2.3547897338867188\n",
      "Median Relative Error : 1.4305554916742036 %\n",
      "Mean Relative Error : 1.898450294304497 %\n",
      "Root Mean Squared Error : 4.8210997345822015\n",
      "Mean Squared Error : 23.243002650788576\n"
     ]
    },
    {
     "name": "stderr",
     "output_type": "stream",
     "text": [
      "\n"
     ]
    }
   ],
   "source": [
    "SigmaCCS2_predict(ifilepath, mfilepath, ofilepath)"
   ]
  }
 ],
 "metadata": {
  "kernelspec": {
   "display_name": "Python 3 (ipykernel)",
   "language": "python",
   "name": "python3"
  },
  "language_info": {
   "codemirror_mode": {
    "name": "ipython",
    "version": 3
   },
   "file_extension": ".py",
   "mimetype": "text/x-python",
   "name": "python",
   "nbconvert_exporter": "python",
   "pygments_lexer": "ipython3",
   "version": "3.9.18"
  }
 },
 "nbformat": 4,
 "nbformat_minor": 5
}
