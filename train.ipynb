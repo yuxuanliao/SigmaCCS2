{
 "cells": [
  {
   "cell_type": "markdown",
   "id": "de4ada63-6f28-4ed7-9241-4cd19d0b2ab3",
   "metadata": {},
   "source": [
    "# Train the SigmaCCS2 model"
   ]
  },
  {
   "cell_type": "code",
   "execution_count": 1,
   "id": "830a8c69-a97d-4475-a9a0-87b4e3b38e38",
   "metadata": {},
   "outputs": [],
   "source": [
    "from SigmaCCS2.ModelTraining import *"
   ]
  },
  {
   "cell_type": "markdown",
   "id": "48f48bd0-c061-4bb7-87ed-aad1c94681c7",
   "metadata": {},
   "source": [
    "## Load the final dataset containing 8196 entries, out of which 90% are training samples and 10% are validation samples"
   ]
  },
  {
   "cell_type": "code",
   "execution_count": 2,
   "id": "83007a1d-2573-48b8-89bc-b48472545d69",
   "metadata": {},
   "outputs": [],
   "source": [
    "ifilepath = './data/TrainingSet.csv'"
   ]
  },
  {
   "cell_type": "markdown",
   "id": "4ced55c4-2b73-4566-b4b1-c8b4b61357f1",
   "metadata": {},
   "source": [
    "## Path to save the SigmaCCS2 model"
   ]
  },
  {
   "cell_type": "code",
   "execution_count": 3,
   "id": "df466ead-6a1b-4aaf-874f-5fc9079319cc",
   "metadata": {},
   "outputs": [],
   "source": [
    "savepath = './model/model_new.pt'"
   ]
  },
  {
   "cell_type": "markdown",
   "id": "6fa618a8-2414-457b-82c3-77fd452e2b3d",
   "metadata": {},
   "source": [
    "## Model training"
   ]
  },
  {
   "cell_type": "code",
   "execution_count": 4,
   "id": "6d62ee22-a6ad-4dc7-8030-7cd395656a6f",
   "metadata": {},
   "outputs": [
    {
     "name": "stdout",
     "output_type": "stream",
     "text": [
      "## Read data :  7376\n",
      "## All Atoms :  ['As', 'Br', 'C', 'Cl', 'F', 'I', 'N', 'O', 'P', 'S', 'Se']\n",
      "## Adduct set order :  ['[M+H]+', '[M+Na]+', '[M-H]-']\n"
     ]
    },
    {
     "name": "stderr",
     "output_type": "stream",
     "text": [
      " 53%|█████████████████████████████████████████▎                                    | 3908/7376 [13:59<07:31,  7.68it/s][17:30:52] UFFTYPER: Unrecognized charge state for atom: 1\n",
      " 59%|█████████████████████████████████████████████▉                                | 4344/7376 [15:26<08:11,  6.17it/s][17:32:20] UFFTYPER: Unrecognized charge state for atom: 7\n",
      " 66%|███████████████████████████████████████████████████▌                          | 4873/7376 [17:30<04:21,  9.59it/s][17:34:24] UFFTYPER: Unrecognized atom type: Se2+2 (15)\n",
      "[17:34:24] UFFTYPER: Unrecognized atom type: Se2+2 (15)\n",
      " 67%|████████████████████████████████████████████████████▎                         | 4946/7376 [17:51<17:18,  2.34it/s][17:34:45] UFFTYPER: Unrecognized charge state for atom: 10\n",
      " 80%|██████████████████████████████████████████████████████████████▌               | 5913/7376 [20:45<10:01,  2.43it/s][17:37:39] UFFTYPER: Unrecognized charge state for atom: 1\n",
      "100%|██████████████████████████████████████████████████████████████████████████████| 7376/7376 [25:52<00:00,  4.75it/s]\n"
     ]
    },
    {
     "name": "stdout",
     "output_type": "stream",
     "text": [
      "## The size of the training set :  7376\n"
     ]
    },
    {
     "name": "stderr",
     "output_type": "stream",
     "text": [
      "Training-Loss 26.54: 100%|████████████████████████████████████████████████████████| 7376/7376 [00:37<00:00, 194.21it/s]\n"
     ]
    },
    {
     "name": "stdout",
     "output_type": "stream",
     "text": [
      "train-loss 47.01935\n"
     ]
    },
    {
     "name": "stderr",
     "output_type": "stream",
     "text": [
      "Training-Loss 28.85: 100%|████████████████████████████████████████████████████████| 7376/7376 [00:37<00:00, 195.91it/s]\n"
     ]
    },
    {
     "name": "stdout",
     "output_type": "stream",
     "text": [
      "train-loss 32.602814\n"
     ]
    },
    {
     "name": "stderr",
     "output_type": "stream",
     "text": [
      "Training-Loss 38.21: 100%|████████████████████████████████████████████████████████| 7376/7376 [00:36<00:00, 202.99it/s]\n"
     ]
    },
    {
     "name": "stdout",
     "output_type": "stream",
     "text": [
      "train-loss 31.942429\n"
     ]
    },
    {
     "name": "stderr",
     "output_type": "stream",
     "text": [
      "Training-Loss 38.79: 100%|████████████████████████████████████████████████████████| 7376/7376 [00:36<00:00, 204.26it/s]\n"
     ]
    },
    {
     "name": "stdout",
     "output_type": "stream",
     "text": [
      "train-loss 31.281717\n"
     ]
    },
    {
     "name": "stderr",
     "output_type": "stream",
     "text": [
      "Training-Loss 28.06: 100%|████████████████████████████████████████████████████████| 7376/7376 [00:36<00:00, 202.49it/s]\n"
     ]
    },
    {
     "name": "stdout",
     "output_type": "stream",
     "text": [
      "train-loss 30.33184\n"
     ]
    },
    {
     "name": "stderr",
     "output_type": "stream",
     "text": [
      "Training-Loss 38.77: 100%|████████████████████████████████████████████████████████| 7376/7376 [00:36<00:00, 203.80it/s]\n"
     ]
    },
    {
     "name": "stdout",
     "output_type": "stream",
     "text": [
      "train-loss 30.862059\n"
     ]
    },
    {
     "name": "stderr",
     "output_type": "stream",
     "text": [
      "Training-Loss 38.30: 100%|████████████████████████████████████████████████████████| 7376/7376 [00:36<00:00, 202.47it/s]\n"
     ]
    },
    {
     "name": "stdout",
     "output_type": "stream",
     "text": [
      "train-loss 29.074059\n"
     ]
    },
    {
     "name": "stderr",
     "output_type": "stream",
     "text": [
      "Training-Loss 24.55: 100%|████████████████████████████████████████████████████████| 7376/7376 [00:36<00:00, 201.91it/s]\n"
     ]
    },
    {
     "name": "stdout",
     "output_type": "stream",
     "text": [
      "train-loss 29.053505\n"
     ]
    },
    {
     "name": "stderr",
     "output_type": "stream",
     "text": [
      "Training-Loss 25.78: 100%|████████████████████████████████████████████████████████| 7376/7376 [00:35<00:00, 206.00it/s]\n"
     ]
    },
    {
     "name": "stdout",
     "output_type": "stream",
     "text": [
      "train-loss 27.503046\n"
     ]
    },
    {
     "name": "stderr",
     "output_type": "stream",
     "text": [
      "Training-Loss 19.08: 100%|████████████████████████████████████████████████████████| 7376/7376 [00:37<00:00, 198.72it/s]\n"
     ]
    },
    {
     "name": "stdout",
     "output_type": "stream",
     "text": [
      "train-loss 26.398571\n"
     ]
    },
    {
     "name": "stderr",
     "output_type": "stream",
     "text": [
      "Training-Loss 24.52: 100%|████████████████████████████████████████████████████████| 7376/7376 [00:36<00:00, 203.43it/s]\n"
     ]
    },
    {
     "name": "stdout",
     "output_type": "stream",
     "text": [
      "train-loss 24.774168\n"
     ]
    },
    {
     "name": "stderr",
     "output_type": "stream",
     "text": [
      "Training-Loss 27.10: 100%|████████████████████████████████████████████████████████| 7376/7376 [00:36<00:00, 204.87it/s]\n"
     ]
    },
    {
     "name": "stdout",
     "output_type": "stream",
     "text": [
      "train-loss 22.855705\n"
     ]
    },
    {
     "name": "stderr",
     "output_type": "stream",
     "text": [
      "Training-Loss 25.08: 100%|████████████████████████████████████████████████████████| 7376/7376 [00:36<00:00, 202.11it/s]\n"
     ]
    },
    {
     "name": "stdout",
     "output_type": "stream",
     "text": [
      "train-loss 22.63614\n"
     ]
    },
    {
     "name": "stderr",
     "output_type": "stream",
     "text": [
      "Training-Loss 33.05: 100%|████████████████████████████████████████████████████████| 7376/7376 [00:35<00:00, 206.29it/s]\n"
     ]
    },
    {
     "name": "stdout",
     "output_type": "stream",
     "text": [
      "train-loss 20.527063\n"
     ]
    },
    {
     "name": "stderr",
     "output_type": "stream",
     "text": [
      "Training-Loss 19.69: 100%|████████████████████████████████████████████████████████| 7376/7376 [00:35<00:00, 207.45it/s]\n"
     ]
    },
    {
     "name": "stdout",
     "output_type": "stream",
     "text": [
      "train-loss 19.550646\n"
     ]
    },
    {
     "name": "stderr",
     "output_type": "stream",
     "text": [
      "Training-Loss 15.23: 100%|████████████████████████████████████████████████████████| 7376/7376 [00:35<00:00, 209.12it/s]\n"
     ]
    },
    {
     "name": "stdout",
     "output_type": "stream",
     "text": [
      "train-loss 19.0563\n"
     ]
    },
    {
     "name": "stderr",
     "output_type": "stream",
     "text": [
      "Training-Loss 13.05: 100%|████████████████████████████████████████████████████████| 7376/7376 [00:35<00:00, 209.11it/s]\n"
     ]
    },
    {
     "name": "stdout",
     "output_type": "stream",
     "text": [
      "train-loss 17.314278\n"
     ]
    },
    {
     "name": "stderr",
     "output_type": "stream",
     "text": [
      "Training-Loss 21.17: 100%|████████████████████████████████████████████████████████| 7376/7376 [00:35<00:00, 207.19it/s]\n"
     ]
    },
    {
     "name": "stdout",
     "output_type": "stream",
     "text": [
      "train-loss 17.324484\n"
     ]
    },
    {
     "name": "stderr",
     "output_type": "stream",
     "text": [
      "Training-Loss 10.01: 100%|████████████████████████████████████████████████████████| 7376/7376 [00:35<00:00, 207.24it/s]\n"
     ]
    },
    {
     "name": "stdout",
     "output_type": "stream",
     "text": [
      "train-loss 16.815424\n"
     ]
    },
    {
     "name": "stderr",
     "output_type": "stream",
     "text": [
      "Training-Loss 7.82: 100%|█████████████████████████████████████████████████████████| 7376/7376 [00:35<00:00, 208.39it/s]\n"
     ]
    },
    {
     "name": "stdout",
     "output_type": "stream",
     "text": [
      "train-loss 15.319662\n"
     ]
    },
    {
     "name": "stderr",
     "output_type": "stream",
     "text": [
      "Training-Loss 19.50: 100%|████████████████████████████████████████████████████████| 7376/7376 [00:35<00:00, 207.32it/s]\n"
     ]
    },
    {
     "name": "stdout",
     "output_type": "stream",
     "text": [
      "train-loss 14.365164\n"
     ]
    },
    {
     "name": "stderr",
     "output_type": "stream",
     "text": [
      "Training-Loss 15.98: 100%|████████████████████████████████████████████████████████| 7376/7376 [00:35<00:00, 208.26it/s]\n"
     ]
    },
    {
     "name": "stdout",
     "output_type": "stream",
     "text": [
      "train-loss 14.412758\n"
     ]
    },
    {
     "name": "stderr",
     "output_type": "stream",
     "text": [
      "Training-Loss 18.00: 100%|████████████████████████████████████████████████████████| 7376/7376 [00:35<00:00, 209.27it/s]\n"
     ]
    },
    {
     "name": "stdout",
     "output_type": "stream",
     "text": [
      "train-loss 13.6688175\n"
     ]
    },
    {
     "name": "stderr",
     "output_type": "stream",
     "text": [
      "Training-Loss 10.11: 100%|████████████████████████████████████████████████████████| 7376/7376 [00:35<00:00, 207.36it/s]\n"
     ]
    },
    {
     "name": "stdout",
     "output_type": "stream",
     "text": [
      "train-loss 12.695503\n"
     ]
    },
    {
     "name": "stderr",
     "output_type": "stream",
     "text": [
      "Training-Loss 7.30: 100%|█████████████████████████████████████████████████████████| 7376/7376 [00:35<00:00, 206.27it/s]\n"
     ]
    },
    {
     "name": "stdout",
     "output_type": "stream",
     "text": [
      "train-loss 11.441828\n"
     ]
    },
    {
     "name": "stderr",
     "output_type": "stream",
     "text": [
      "Training-Loss 8.75: 100%|█████████████████████████████████████████████████████████| 7376/7376 [00:36<00:00, 204.59it/s]\n"
     ]
    },
    {
     "name": "stdout",
     "output_type": "stream",
     "text": [
      "train-loss 11.160116\n"
     ]
    },
    {
     "name": "stderr",
     "output_type": "stream",
     "text": [
      "Training-Loss 8.76: 100%|█████████████████████████████████████████████████████████| 7376/7376 [00:35<00:00, 206.85it/s]\n"
     ]
    },
    {
     "name": "stdout",
     "output_type": "stream",
     "text": [
      "train-loss 9.712503\n"
     ]
    },
    {
     "name": "stderr",
     "output_type": "stream",
     "text": [
      "Training-Loss 7.91: 100%|█████████████████████████████████████████████████████████| 7376/7376 [00:35<00:00, 206.12it/s]\n"
     ]
    },
    {
     "name": "stdout",
     "output_type": "stream",
     "text": [
      "train-loss 9.239504\n"
     ]
    },
    {
     "name": "stderr",
     "output_type": "stream",
     "text": [
      "Training-Loss 4.11: 100%|█████████████████████████████████████████████████████████| 7376/7376 [00:35<00:00, 208.29it/s]\n"
     ]
    },
    {
     "name": "stdout",
     "output_type": "stream",
     "text": [
      "train-loss 8.3975935\n"
     ]
    },
    {
     "name": "stderr",
     "output_type": "stream",
     "text": [
      "Training-Loss 6.13: 100%|█████████████████████████████████████████████████████████| 7376/7376 [00:35<00:00, 207.79it/s]\n"
     ]
    },
    {
     "name": "stdout",
     "output_type": "stream",
     "text": [
      "train-loss 7.020729\n"
     ]
    },
    {
     "name": "stderr",
     "output_type": "stream",
     "text": [
      "Training-Loss 6.30: 100%|█████████████████████████████████████████████████████████| 7376/7376 [00:35<00:00, 206.11it/s]\n"
     ]
    },
    {
     "name": "stdout",
     "output_type": "stream",
     "text": [
      "train-loss 6.5330863\n"
     ]
    },
    {
     "name": "stderr",
     "output_type": "stream",
     "text": [
      "Training-Loss 5.29: 100%|█████████████████████████████████████████████████████████| 7376/7376 [00:35<00:00, 209.95it/s]\n"
     ]
    },
    {
     "name": "stdout",
     "output_type": "stream",
     "text": [
      "train-loss 5.9090514\n"
     ]
    },
    {
     "name": "stderr",
     "output_type": "stream",
     "text": [
      "Training-Loss 4.07: 100%|█████████████████████████████████████████████████████████| 7376/7376 [00:35<00:00, 207.82it/s]\n"
     ]
    },
    {
     "name": "stdout",
     "output_type": "stream",
     "text": [
      "train-loss 5.716803\n"
     ]
    },
    {
     "name": "stderr",
     "output_type": "stream",
     "text": [
      "Training-Loss 6.90: 100%|█████████████████████████████████████████████████████████| 7376/7376 [00:35<00:00, 208.14it/s]\n"
     ]
    },
    {
     "name": "stdout",
     "output_type": "stream",
     "text": [
      "train-loss 5.712976\n"
     ]
    },
    {
     "name": "stderr",
     "output_type": "stream",
     "text": [
      "Training-Loss 4.44: 100%|█████████████████████████████████████████████████████████| 7376/7376 [00:35<00:00, 206.88it/s]\n"
     ]
    },
    {
     "name": "stdout",
     "output_type": "stream",
     "text": [
      "train-loss 5.192226\n"
     ]
    },
    {
     "name": "stderr",
     "output_type": "stream",
     "text": [
      "Training-Loss 6.84: 100%|█████████████████████████████████████████████████████████| 7376/7376 [00:35<00:00, 207.00it/s]\n"
     ]
    },
    {
     "name": "stdout",
     "output_type": "stream",
     "text": [
      "train-loss 5.195847\n"
     ]
    },
    {
     "name": "stderr",
     "output_type": "stream",
     "text": [
      "Training-Loss 2.52: 100%|█████████████████████████████████████████████████████████| 7376/7376 [00:35<00:00, 205.58it/s]\n"
     ]
    },
    {
     "name": "stdout",
     "output_type": "stream",
     "text": [
      "train-loss 5.3093204\n"
     ]
    },
    {
     "name": "stderr",
     "output_type": "stream",
     "text": [
      "Training-Loss 3.73: 100%|█████████████████████████████████████████████████████████| 7376/7376 [00:36<00:00, 204.68it/s]\n"
     ]
    },
    {
     "name": "stdout",
     "output_type": "stream",
     "text": [
      "train-loss 4.848078\n"
     ]
    },
    {
     "name": "stderr",
     "output_type": "stream",
     "text": [
      "Training-Loss 6.18: 100%|█████████████████████████████████████████████████████████| 7376/7376 [00:36<00:00, 204.69it/s]\n"
     ]
    },
    {
     "name": "stdout",
     "output_type": "stream",
     "text": [
      "train-loss 5.155924\n"
     ]
    },
    {
     "name": "stderr",
     "output_type": "stream",
     "text": [
      "Training-Loss 3.59: 100%|█████████████████████████████████████████████████████████| 7376/7376 [00:35<00:00, 205.25it/s]\n"
     ]
    },
    {
     "name": "stdout",
     "output_type": "stream",
     "text": [
      "train-loss 4.917283\n"
     ]
    },
    {
     "name": "stderr",
     "output_type": "stream",
     "text": [
      "Training-Loss 4.41: 100%|█████████████████████████████████████████████████████████| 7376/7376 [00:35<00:00, 205.69it/s]\n"
     ]
    },
    {
     "name": "stdout",
     "output_type": "stream",
     "text": [
      "train-loss 4.6485972\n"
     ]
    },
    {
     "name": "stderr",
     "output_type": "stream",
     "text": [
      "Training-Loss 5.16: 100%|█████████████████████████████████████████████████████████| 7376/7376 [00:35<00:00, 206.64it/s]\n"
     ]
    },
    {
     "name": "stdout",
     "output_type": "stream",
     "text": [
      "train-loss 4.768618\n"
     ]
    },
    {
     "name": "stderr",
     "output_type": "stream",
     "text": [
      "Training-Loss 3.19: 100%|█████████████████████████████████████████████████████████| 7376/7376 [00:35<00:00, 206.88it/s]\n"
     ]
    },
    {
     "name": "stdout",
     "output_type": "stream",
     "text": [
      "train-loss 4.8717947\n"
     ]
    },
    {
     "name": "stderr",
     "output_type": "stream",
     "text": [
      "Training-Loss 2.98: 100%|█████████████████████████████████████████████████████████| 7376/7376 [00:36<00:00, 204.58it/s]\n"
     ]
    },
    {
     "name": "stdout",
     "output_type": "stream",
     "text": [
      "train-loss 4.505159\n"
     ]
    },
    {
     "name": "stderr",
     "output_type": "stream",
     "text": [
      "Training-Loss 4.05: 100%|█████████████████████████████████████████████████████████| 7376/7376 [00:35<00:00, 208.33it/s]\n"
     ]
    },
    {
     "name": "stdout",
     "output_type": "stream",
     "text": [
      "train-loss 4.489513\n"
     ]
    },
    {
     "name": "stderr",
     "output_type": "stream",
     "text": [
      "Training-Loss 5.11: 100%|█████████████████████████████████████████████████████████| 7376/7376 [00:36<00:00, 204.46it/s]\n"
     ]
    },
    {
     "name": "stdout",
     "output_type": "stream",
     "text": [
      "train-loss 4.619997\n"
     ]
    },
    {
     "name": "stderr",
     "output_type": "stream",
     "text": [
      "Training-Loss 5.98: 100%|█████████████████████████████████████████████████████████| 7376/7376 [00:35<00:00, 208.35it/s]\n"
     ]
    },
    {
     "name": "stdout",
     "output_type": "stream",
     "text": [
      "train-loss 4.2420244\n"
     ]
    },
    {
     "name": "stderr",
     "output_type": "stream",
     "text": [
      "Training-Loss 4.10: 100%|█████████████████████████████████████████████████████████| 7376/7376 [00:35<00:00, 207.18it/s]\n"
     ]
    },
    {
     "name": "stdout",
     "output_type": "stream",
     "text": [
      "train-loss 4.224174\n"
     ]
    },
    {
     "name": "stderr",
     "output_type": "stream",
     "text": [
      "Training-Loss 4.14: 100%|█████████████████████████████████████████████████████████| 7376/7376 [00:35<00:00, 207.16it/s]\n"
     ]
    },
    {
     "name": "stdout",
     "output_type": "stream",
     "text": [
      "train-loss 4.3597894\n"
     ]
    },
    {
     "name": "stderr",
     "output_type": "stream",
     "text": [
      "Training-Loss 3.33: 100%|█████████████████████████████████████████████████████████| 7376/7376 [00:35<00:00, 205.52it/s]\n"
     ]
    },
    {
     "name": "stdout",
     "output_type": "stream",
     "text": [
      "train-loss 4.612747\n"
     ]
    },
    {
     "name": "stderr",
     "output_type": "stream",
     "text": [
      "Training-Loss 5.11: 100%|█████████████████████████████████████████████████████████| 7376/7376 [00:35<00:00, 206.39it/s]\n"
     ]
    },
    {
     "name": "stdout",
     "output_type": "stream",
     "text": [
      "train-loss 3.8695202\n"
     ]
    },
    {
     "name": "stderr",
     "output_type": "stream",
     "text": [
      "Training-Loss 3.46: 100%|█████████████████████████████████████████████████████████| 7376/7376 [00:35<00:00, 205.23it/s]\n"
     ]
    },
    {
     "name": "stdout",
     "output_type": "stream",
     "text": [
      "train-loss 4.084414\n"
     ]
    },
    {
     "name": "stderr",
     "output_type": "stream",
     "text": [
      "Training-Loss 3.83: 100%|█████████████████████████████████████████████████████████| 7376/7376 [00:35<00:00, 206.22it/s]\n"
     ]
    },
    {
     "name": "stdout",
     "output_type": "stream",
     "text": [
      "train-loss 4.0160623\n"
     ]
    },
    {
     "name": "stderr",
     "output_type": "stream",
     "text": [
      "Training-Loss 5.09: 100%|█████████████████████████████████████████████████████████| 7376/7376 [00:35<00:00, 205.47it/s]\n"
     ]
    },
    {
     "name": "stdout",
     "output_type": "stream",
     "text": [
      "train-loss 4.0313683\n"
     ]
    },
    {
     "name": "stderr",
     "output_type": "stream",
     "text": [
      "Training-Loss 4.86: 100%|█████████████████████████████████████████████████████████| 7376/7376 [00:35<00:00, 206.21it/s]\n"
     ]
    },
    {
     "name": "stdout",
     "output_type": "stream",
     "text": [
      "train-loss 3.9287422\n"
     ]
    },
    {
     "name": "stderr",
     "output_type": "stream",
     "text": [
      "Training-Loss 4.01: 100%|█████████████████████████████████████████████████████████| 7376/7376 [00:35<00:00, 206.18it/s]\n"
     ]
    },
    {
     "name": "stdout",
     "output_type": "stream",
     "text": [
      "train-loss 3.9215453\n"
     ]
    },
    {
     "name": "stderr",
     "output_type": "stream",
     "text": [
      "Training-Loss 2.30: 100%|█████████████████████████████████████████████████████████| 7376/7376 [00:35<00:00, 205.88it/s]\n"
     ]
    },
    {
     "name": "stdout",
     "output_type": "stream",
     "text": [
      "train-loss 4.276642\n"
     ]
    },
    {
     "name": "stderr",
     "output_type": "stream",
     "text": [
      "Training-Loss 2.59: 100%|█████████████████████████████████████████████████████████| 7376/7376 [00:35<00:00, 206.66it/s]\n"
     ]
    },
    {
     "name": "stdout",
     "output_type": "stream",
     "text": [
      "train-loss 3.7554119\n"
     ]
    },
    {
     "name": "stderr",
     "output_type": "stream",
     "text": [
      "Training-Loss 4.17: 100%|█████████████████████████████████████████████████████████| 7376/7376 [00:36<00:00, 204.12it/s]\n"
     ]
    },
    {
     "name": "stdout",
     "output_type": "stream",
     "text": [
      "train-loss 3.7590926\n"
     ]
    },
    {
     "name": "stderr",
     "output_type": "stream",
     "text": [
      "Training-Loss 2.82: 100%|█████████████████████████████████████████████████████████| 7376/7376 [00:36<00:00, 204.80it/s]\n"
     ]
    },
    {
     "name": "stdout",
     "output_type": "stream",
     "text": [
      "train-loss 3.7659454\n"
     ]
    },
    {
     "name": "stderr",
     "output_type": "stream",
     "text": [
      "Training-Loss 3.55: 100%|█████████████████████████████████████████████████████████| 7376/7376 [00:35<00:00, 204.98it/s]\n"
     ]
    },
    {
     "name": "stdout",
     "output_type": "stream",
     "text": [
      "train-loss 3.6188912\n"
     ]
    },
    {
     "name": "stderr",
     "output_type": "stream",
     "text": [
      "Training-Loss 4.67: 100%|█████████████████████████████████████████████████████████| 7376/7376 [00:36<00:00, 204.61it/s]\n"
     ]
    },
    {
     "name": "stdout",
     "output_type": "stream",
     "text": [
      "train-loss 3.7148612\n"
     ]
    },
    {
     "name": "stderr",
     "output_type": "stream",
     "text": [
      "Training-Loss 2.88: 100%|█████████████████████████████████████████████████████████| 7376/7376 [00:36<00:00, 203.76it/s]\n"
     ]
    },
    {
     "name": "stdout",
     "output_type": "stream",
     "text": [
      "train-loss 3.5597303\n"
     ]
    },
    {
     "name": "stderr",
     "output_type": "stream",
     "text": [
      "Training-Loss 2.06: 100%|█████████████████████████████████████████████████████████| 7376/7376 [00:35<00:00, 206.53it/s]\n"
     ]
    },
    {
     "name": "stdout",
     "output_type": "stream",
     "text": [
      "train-loss 3.6867259\n"
     ]
    },
    {
     "name": "stderr",
     "output_type": "stream",
     "text": [
      "Training-Loss 4.65: 100%|█████████████████████████████████████████████████████████| 7376/7376 [00:35<00:00, 207.10it/s]\n"
     ]
    },
    {
     "name": "stdout",
     "output_type": "stream",
     "text": [
      "train-loss 3.608363\n"
     ]
    },
    {
     "name": "stderr",
     "output_type": "stream",
     "text": [
      "Training-Loss 3.64: 100%|█████████████████████████████████████████████████████████| 7376/7376 [00:35<00:00, 207.88it/s]\n"
     ]
    },
    {
     "name": "stdout",
     "output_type": "stream",
     "text": [
      "train-loss 3.666497\n"
     ]
    },
    {
     "name": "stderr",
     "output_type": "stream",
     "text": [
      "Training-Loss 6.62: 100%|█████████████████████████████████████████████████████████| 7376/7376 [00:35<00:00, 206.97it/s]\n"
     ]
    },
    {
     "name": "stdout",
     "output_type": "stream",
     "text": [
      "train-loss 3.5145257\n"
     ]
    },
    {
     "name": "stderr",
     "output_type": "stream",
     "text": [
      "Training-Loss 1.88: 100%|█████████████████████████████████████████████████████████| 7376/7376 [00:35<00:00, 207.66it/s]\n"
     ]
    },
    {
     "name": "stdout",
     "output_type": "stream",
     "text": [
      "train-loss 3.4418669\n"
     ]
    },
    {
     "name": "stderr",
     "output_type": "stream",
     "text": [
      "Training-Loss 3.09: 100%|█████████████████████████████████████████████████████████| 7376/7376 [00:36<00:00, 203.25it/s]\n"
     ]
    },
    {
     "name": "stdout",
     "output_type": "stream",
     "text": [
      "train-loss 3.474923\n"
     ]
    },
    {
     "name": "stderr",
     "output_type": "stream",
     "text": [
      "Training-Loss 3.73: 100%|█████████████████████████████████████████████████████████| 7376/7376 [00:35<00:00, 207.63it/s]\n"
     ]
    },
    {
     "name": "stdout",
     "output_type": "stream",
     "text": [
      "train-loss 3.4889936\n"
     ]
    },
    {
     "name": "stderr",
     "output_type": "stream",
     "text": [
      "Training-Loss 4.94: 100%|█████████████████████████████████████████████████████████| 7376/7376 [00:36<00:00, 204.48it/s]\n"
     ]
    },
    {
     "name": "stdout",
     "output_type": "stream",
     "text": [
      "train-loss 3.5027614\n"
     ]
    },
    {
     "name": "stderr",
     "output_type": "stream",
     "text": [
      "Training-Loss 3.81: 100%|█████████████████████████████████████████████████████████| 7376/7376 [00:35<00:00, 205.52it/s]\n"
     ]
    },
    {
     "name": "stdout",
     "output_type": "stream",
     "text": [
      "train-loss 3.3219705\n"
     ]
    },
    {
     "name": "stderr",
     "output_type": "stream",
     "text": [
      "Training-Loss 3.57: 100%|█████████████████████████████████████████████████████████| 7376/7376 [00:36<00:00, 203.44it/s]\n"
     ]
    },
    {
     "name": "stdout",
     "output_type": "stream",
     "text": [
      "train-loss 3.3585358\n"
     ]
    },
    {
     "name": "stderr",
     "output_type": "stream",
     "text": [
      "Training-Loss 2.41: 100%|█████████████████████████████████████████████████████████| 7376/7376 [00:35<00:00, 206.50it/s]\n"
     ]
    },
    {
     "name": "stdout",
     "output_type": "stream",
     "text": [
      "train-loss 3.3851018\n"
     ]
    },
    {
     "name": "stderr",
     "output_type": "stream",
     "text": [
      "Training-Loss 3.20: 100%|█████████████████████████████████████████████████████████| 7376/7376 [00:35<00:00, 206.33it/s]\n"
     ]
    },
    {
     "name": "stdout",
     "output_type": "stream",
     "text": [
      "train-loss 3.1901417\n"
     ]
    },
    {
     "name": "stderr",
     "output_type": "stream",
     "text": [
      "Training-Loss 2.65: 100%|█████████████████████████████████████████████████████████| 7376/7376 [00:35<00:00, 206.65it/s]\n"
     ]
    },
    {
     "name": "stdout",
     "output_type": "stream",
     "text": [
      "train-loss 3.231902\n"
     ]
    },
    {
     "name": "stderr",
     "output_type": "stream",
     "text": [
      "Training-Loss 2.97: 100%|█████████████████████████████████████████████████████████| 7376/7376 [00:35<00:00, 206.71it/s]\n"
     ]
    },
    {
     "name": "stdout",
     "output_type": "stream",
     "text": [
      "train-loss 3.2317598\n"
     ]
    },
    {
     "name": "stderr",
     "output_type": "stream",
     "text": [
      "Training-Loss 3.87: 100%|█████████████████████████████████████████████████████████| 7376/7376 [00:35<00:00, 206.71it/s]\n"
     ]
    },
    {
     "name": "stdout",
     "output_type": "stream",
     "text": [
      "train-loss 3.1829946\n"
     ]
    },
    {
     "name": "stderr",
     "output_type": "stream",
     "text": [
      "Training-Loss 1.87: 100%|█████████████████████████████████████████████████████████| 7376/7376 [00:35<00:00, 206.21it/s]\n"
     ]
    },
    {
     "name": "stdout",
     "output_type": "stream",
     "text": [
      "train-loss 3.1592019\n"
     ]
    },
    {
     "name": "stderr",
     "output_type": "stream",
     "text": [
      "Training-Loss 2.59: 100%|█████████████████████████████████████████████████████████| 7376/7376 [00:35<00:00, 206.21it/s]\n"
     ]
    },
    {
     "name": "stdout",
     "output_type": "stream",
     "text": [
      "train-loss 3.3105216\n"
     ]
    },
    {
     "name": "stderr",
     "output_type": "stream",
     "text": [
      "Training-Loss 1.67: 100%|█████████████████████████████████████████████████████████| 7376/7376 [00:35<00:00, 207.09it/s]\n"
     ]
    },
    {
     "name": "stdout",
     "output_type": "stream",
     "text": [
      "train-loss 3.0936365\n"
     ]
    },
    {
     "name": "stderr",
     "output_type": "stream",
     "text": [
      "Training-Loss 2.63: 100%|█████████████████████████████████████████████████████████| 7376/7376 [00:36<00:00, 204.82it/s]\n"
     ]
    },
    {
     "name": "stdout",
     "output_type": "stream",
     "text": [
      "train-loss 3.2481437\n"
     ]
    },
    {
     "name": "stderr",
     "output_type": "stream",
     "text": [
      "Training-Loss 3.14: 100%|█████████████████████████████████████████████████████████| 7376/7376 [00:35<00:00, 205.02it/s]\n"
     ]
    },
    {
     "name": "stdout",
     "output_type": "stream",
     "text": [
      "train-loss 3.0268338\n"
     ]
    },
    {
     "name": "stderr",
     "output_type": "stream",
     "text": [
      "Training-Loss 1.96: 100%|█████████████████████████████████████████████████████████| 7376/7376 [00:35<00:00, 205.71it/s]\n"
     ]
    },
    {
     "name": "stdout",
     "output_type": "stream",
     "text": [
      "train-loss 3.1422863\n"
     ]
    },
    {
     "name": "stderr",
     "output_type": "stream",
     "text": [
      "Training-Loss 4.38: 100%|█████████████████████████████████████████████████████████| 7376/7376 [00:36<00:00, 204.77it/s]\n"
     ]
    },
    {
     "name": "stdout",
     "output_type": "stream",
     "text": [
      "train-loss 3.0085309\n"
     ]
    },
    {
     "name": "stderr",
     "output_type": "stream",
     "text": [
      "Training-Loss 2.96: 100%|█████████████████████████████████████████████████████████| 7376/7376 [00:35<00:00, 205.87it/s]\n"
     ]
    },
    {
     "name": "stdout",
     "output_type": "stream",
     "text": [
      "train-loss 3.0244005\n"
     ]
    },
    {
     "name": "stderr",
     "output_type": "stream",
     "text": [
      "Training-Loss 2.61: 100%|█████████████████████████████████████████████████████████| 7376/7376 [00:35<00:00, 208.38it/s]\n"
     ]
    },
    {
     "name": "stdout",
     "output_type": "stream",
     "text": [
      "train-loss 3.0403621\n"
     ]
    },
    {
     "name": "stderr",
     "output_type": "stream",
     "text": [
      "Training-Loss 5.48: 100%|█████████████████████████████████████████████████████████| 7376/7376 [00:36<00:00, 204.55it/s]\n"
     ]
    },
    {
     "name": "stdout",
     "output_type": "stream",
     "text": [
      "train-loss 3.026863\n"
     ]
    },
    {
     "name": "stderr",
     "output_type": "stream",
     "text": [
      "Training-Loss 2.79: 100%|█████████████████████████████████████████████████████████| 7376/7376 [00:35<00:00, 205.77it/s]\n"
     ]
    },
    {
     "name": "stdout",
     "output_type": "stream",
     "text": [
      "train-loss 3.1207342\n"
     ]
    },
    {
     "name": "stderr",
     "output_type": "stream",
     "text": [
      "Training-Loss 2.68: 100%|█████████████████████████████████████████████████████████| 7376/7376 [00:35<00:00, 206.42it/s]\n"
     ]
    },
    {
     "name": "stdout",
     "output_type": "stream",
     "text": [
      "train-loss 2.881245\n"
     ]
    },
    {
     "name": "stderr",
     "output_type": "stream",
     "text": [
      "Training-Loss 2.75: 100%|█████████████████████████████████████████████████████████| 7376/7376 [00:35<00:00, 206.21it/s]\n"
     ]
    },
    {
     "name": "stdout",
     "output_type": "stream",
     "text": [
      "train-loss 2.946515\n"
     ]
    },
    {
     "name": "stderr",
     "output_type": "stream",
     "text": [
      "Training-Loss 1.36: 100%|█████████████████████████████████████████████████████████| 7376/7376 [00:35<00:00, 205.86it/s]\n"
     ]
    },
    {
     "name": "stdout",
     "output_type": "stream",
     "text": [
      "train-loss 3.060825\n"
     ]
    },
    {
     "name": "stderr",
     "output_type": "stream",
     "text": [
      "Training-Loss 2.64: 100%|█████████████████████████████████████████████████████████| 7376/7376 [00:36<00:00, 204.51it/s]\n"
     ]
    },
    {
     "name": "stdout",
     "output_type": "stream",
     "text": [
      "train-loss 2.7674515\n"
     ]
    },
    {
     "name": "stderr",
     "output_type": "stream",
     "text": [
      "Training-Loss 4.40: 100%|█████████████████████████████████████████████████████████| 7376/7376 [00:35<00:00, 207.33it/s]\n"
     ]
    },
    {
     "name": "stdout",
     "output_type": "stream",
     "text": [
      "train-loss 2.8469567\n"
     ]
    },
    {
     "name": "stderr",
     "output_type": "stream",
     "text": [
      "Training-Loss 2.89: 100%|█████████████████████████████████████████████████████████| 7376/7376 [00:36<00:00, 203.88it/s]\n"
     ]
    },
    {
     "name": "stdout",
     "output_type": "stream",
     "text": [
      "train-loss 2.912971\n"
     ]
    },
    {
     "name": "stderr",
     "output_type": "stream",
     "text": [
      "Training-Loss 4.70: 100%|█████████████████████████████████████████████████████████| 7376/7376 [00:35<00:00, 206.55it/s]\n"
     ]
    },
    {
     "name": "stdout",
     "output_type": "stream",
     "text": [
      "train-loss 2.8726084\n"
     ]
    },
    {
     "name": "stderr",
     "output_type": "stream",
     "text": [
      "Training-Loss 6.08: 100%|█████████████████████████████████████████████████████████| 7376/7376 [00:36<00:00, 204.65it/s]\n"
     ]
    },
    {
     "name": "stdout",
     "output_type": "stream",
     "text": [
      "train-loss 2.7720096\n"
     ]
    },
    {
     "name": "stderr",
     "output_type": "stream",
     "text": [
      "Training-Loss 3.14: 100%|█████████████████████████████████████████████████████████| 7376/7376 [00:35<00:00, 205.11it/s]\n"
     ]
    },
    {
     "name": "stdout",
     "output_type": "stream",
     "text": [
      "train-loss 2.9539316\n"
     ]
    },
    {
     "name": "stderr",
     "output_type": "stream",
     "text": [
      "Training-Loss 2.62: 100%|█████████████████████████████████████████████████████████| 7376/7376 [00:36<00:00, 203.64it/s]\n"
     ]
    },
    {
     "name": "stdout",
     "output_type": "stream",
     "text": [
      "train-loss 2.812621\n"
     ]
    },
    {
     "name": "stderr",
     "output_type": "stream",
     "text": [
      "Training-Loss 2.83: 100%|█████████████████████████████████████████████████████████| 7376/7376 [00:35<00:00, 206.27it/s]"
     ]
    },
    {
     "name": "stdout",
     "output_type": "stream",
     "text": [
      "train-loss 2.8170183\n"
     ]
    },
    {
     "name": "stderr",
     "output_type": "stream",
     "text": [
      "\n"
     ]
    }
   ],
   "source": [
    "SigmaCCS2_Model = SigmaCCS2_train(ifilepath, 100, 16, savepath)"
   ]
  }
 ],
 "metadata": {
  "kernelspec": {
   "display_name": "Python 3 (ipykernel)",
   "language": "python",
   "name": "python3"
  },
  "language_info": {
   "codemirror_mode": {
    "name": "ipython",
    "version": 3
   },
   "file_extension": ".py",
   "mimetype": "text/x-python",
   "name": "python",
   "nbconvert_exporter": "python",
   "pygments_lexer": "ipython3",
   "version": "3.12.3"
  }
 },
 "nbformat": 4,
 "nbformat_minor": 5
}
